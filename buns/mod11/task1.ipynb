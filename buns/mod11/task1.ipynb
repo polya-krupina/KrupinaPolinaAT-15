import numpy as np
import random
import scipy.stats as sps
import cv2
a = np.random.sample((100, 100))
b = np.random.sample((100, 100))
def mult(a, b):
    result = None
    rows_a, cols_a = len(a), len(a[0])
    rows_b, cols_b = len(b), len(b[0])
    result = [[0 for _ in range(cols_b)] for _ in range(rows_a)]
    for i in range(rows_a):
        for j in range(cols_b):
            for k in range(cols_a):
                result[i][j] += a[i][k] * b[k][j]
    return result


def np_mult(a, b):
    result = np.dot(a, b)
    return result


%time M1 = mult(a, b)
%time M2 = np_mult(a, b)
np.abs(np.array(M1) - M2).sum()