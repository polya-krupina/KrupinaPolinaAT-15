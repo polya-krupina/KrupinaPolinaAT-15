{
  "nbformat": 4,
  "nbformat_minor": 0,
  "metadata": {
    "colab": {
      "provenance": []
    },
    "kernelspec": {
      "name": "python3",
      "display_name": "Python 3"
    },
    "language_info": {
      "name": "python"
    }
  },
  "cells": [
    {
      "cell_type": "code",
      "execution_count": 29,
      "metadata": {
        "colab": {
          "base_uri": "https://localhost:8080/"
        },
        "id": "RkGHA_IEUFf_",
        "outputId": "ca2e212b-db00-4a48-c459-61fcb2cc59fb"
      },
      "outputs": [
        {
          "output_type": "stream",
          "name": "stdout",
          "text": [
            "4Minute B1A4\n"
          ]
        }
      ],
      "source": [
        "import sqlite3\n",
        "\n",
        "original_conn = sqlite3.connect('netflix.sqlite')\n",
        "original_cursor = original_conn.cursor()\n",
        "new_conn = sqlite3.connect('task1.sqlite')\n",
        "new_cursor = new_conn.cursor()\n",
        "\n",
        "new_cursor.execute('''\n",
        "    CREATE TABLE IF NOT EXISTS actors (\n",
        "        actor_id INTEGER PRIMARY KEY,\n",
        "        actor_name TEXT UNIQUE\n",
        "    )\n",
        "''')\n",
        "new_cursor.execute('''\n",
        "    CREATE TABLE IF NOT EXISTS movies (\n",
        "        movie_id INTEGER PRIMARY KEY,\n",
        "        title TEXT UNIQUE\n",
        "    )\n",
        "''')\n",
        "new_cursor.execute('''\n",
        "    CREATE TABLE IF NOT EXISTS actor_movie (\n",
        "        actor_id INTEGER,\n",
        "        movie_id INTEGER,\n",
        "        FOREIGN KEY (actor_id) REFERENCES actors (actor_id),\n",
        "        FOREIGN KEY (movie_id) REFERENCES movies (movie_id),\n",
        "        PRIMARY KEY (actor_id, movie_id)\n",
        "    )\n",
        "''')\n",
        "for row in original_cursor.execute('SELECT * FROM netflix_titles'):\n",
        "    title = row[2]\n",
        "    cast = row[4]\n",
        "    movie_id = new_cursor.execute('INSERT OR IGNORE INTO movies (title) VALUES (?)', (title,)).lastrowid\n",
        "    actors = cast.split(', ')\n",
        "    for actor in actors:\n",
        "        actor_id = new_cursor.execute('INSERT OR IGNORE INTO actors (actor_name) VALUES (?)', (actor.strip(),)).lastrowid\n",
        "        new_cursor.execute('INSERT OR IGNORE INTO actor_movie (actor_id, movie_id) VALUES (?, ?)', (actor_id, movie_id))\n",
        "\n",
        "new_conn.commit()\n",
        "result = new_cursor.execute('''\n",
        "    SELECT a1.actor_name, a2.actor_name, COUNT(*) as movies_together\n",
        "    FROM actor_movie am1\n",
        "    JOIN actor_movie am2 ON am1.movie_id = am2.movie_id AND am1.actor_id < am2.actor_id\n",
        "    JOIN actors a1 ON am1.actor_id = a1.actor_id\n",
        "    JOIN actors a2 ON am2.actor_id = a2.actor_id\n",
        "    GROUP BY a1.actor_name, a2.actor_name\n",
        "    ORDER BY movies_together DESC\n",
        "    LIMIT 1\n",
        "''').fetchone()\n",
        "print(result[0], result[1])\n",
        "original_conn.close()\n",
        "new_conn.close()\n"
      ]
    }
  ]
}